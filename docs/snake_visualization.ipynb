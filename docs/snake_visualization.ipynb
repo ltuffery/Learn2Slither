{
 "cells": [
  {
   "cell_type": "code",
   "execution_count": 7,
   "id": "a58b37f3",
   "metadata": {
    "ExecuteTime": {
     "end_time": "2025-07-09T07:30:57.416233Z",
     "start_time": "2025-07-09T07:30:57.181453Z"
    }
   },
   "outputs": [],
   "source": [
    "import vizualition"
   ]
  },
  {
   "cell_type": "code",
   "execution_count": 128,
   "id": "a9c09b02de089e10",
   "metadata": {
    "ExecuteTime": {
     "end_time": "2025-07-09T07:30:43.899159Z",
     "start_time": "2025-07-09T07:30:43.860822Z"
    }
   },
   "outputs": [
    {
     "data": {
      "application/vnd.plotly.v1+json": {
       "config": {
        "plotlyServerURL": "https://plot.ly"
       },
       "data": [
        {
         "hovertemplate": "variable=Total_Reward<br>index=%{x}<br>value=%{y}<extra></extra>",
         "legendgroup": "Total_Reward",
         "line": {
          "color": "#636efa",
          "dash": "solid"
         },
         "marker": {
          "symbol": "circle"
         },
         "mode": "lines",
         "name": "Total_Reward",
         "showlegend": true,
         "type": "scattergl",
         "x": {
          "bdata": "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",
          "dtype": "i2"
         },
         "xaxis": "x",
         "y": {
          "bdata": "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",
          "dtype": "i1"
         },
         "yaxis": "y"
        }
       ],
       "layout": {
        "legend": {
         "title": {
          "text": "variable"
         },
         "tracegroupgap": 0
        },
        "margin": {
         "t": 60
        },
        "template": {
         "data": {
          "bar": [
           {
            "error_x": {
             "color": "#2a3f5f"
            },
            "error_y": {
             "color": "#2a3f5f"
            },
            "marker": {
             "line": {
              "color": "#E5ECF6",
              "width": 0.5
             },
             "pattern": {
              "fillmode": "overlay",
              "size": 10,
              "solidity": 0.2
             }
            },
            "type": "bar"
           }
          ],
          "barpolar": [
           {
            "marker": {
             "line": {
              "color": "#E5ECF6",
              "width": 0.5
             },
             "pattern": {
              "fillmode": "overlay",
              "size": 10,
              "solidity": 0.2
             }
            },
            "type": "barpolar"
           }
          ],
          "carpet": [
           {
            "aaxis": {
             "endlinecolor": "#2a3f5f",
             "gridcolor": "white",
             "linecolor": "white",
             "minorgridcolor": "white",
             "startlinecolor": "#2a3f5f"
            },
            "baxis": {
             "endlinecolor": "#2a3f5f",
             "gridcolor": "white",
             "linecolor": "white",
             "minorgridcolor": "white",
             "startlinecolor": "#2a3f5f"
            },
            "type": "carpet"
           }
          ],
          "choropleth": [
           {
            "colorbar": {
             "outlinewidth": 0,
             "ticks": ""
            },
            "type": "choropleth"
           }
          ],
          "contour": [
           {
            "colorbar": {
             "outlinewidth": 0,
             "ticks": ""
            },
            "colorscale": [
             [
              0,
              "#0d0887"
             ],
             [
              0.1111111111111111,
              "#46039f"
             ],
             [
              0.2222222222222222,
              "#7201a8"
             ],
             [
              0.3333333333333333,
              "#9c179e"
             ],
             [
              0.4444444444444444,
              "#bd3786"
             ],
             [
              0.5555555555555556,
              "#d8576b"
             ],
             [
              0.6666666666666666,
              "#ed7953"
             ],
             [
              0.7777777777777778,
              "#fb9f3a"
             ],
             [
              0.8888888888888888,
              "#fdca26"
             ],
             [
              1,
              "#f0f921"
             ]
            ],
            "type": "contour"
           }
          ],
          "contourcarpet": [
           {
            "colorbar": {
             "outlinewidth": 0,
             "ticks": ""
            },
            "type": "contourcarpet"
           }
          ],
          "heatmap": [
           {
            "colorbar": {
             "outlinewidth": 0,
             "ticks": ""
            },
            "colorscale": [
             [
              0,
              "#0d0887"
             ],
             [
              0.1111111111111111,
              "#46039f"
             ],
             [
              0.2222222222222222,
              "#7201a8"
             ],
             [
              0.3333333333333333,
              "#9c179e"
             ],
             [
              0.4444444444444444,
              "#bd3786"
             ],
             [
              0.5555555555555556,
              "#d8576b"
             ],
             [
              0.6666666666666666,
              "#ed7953"
             ],
             [
              0.7777777777777778,
              "#fb9f3a"
             ],
             [
              0.8888888888888888,
              "#fdca26"
             ],
             [
              1,
              "#f0f921"
             ]
            ],
            "type": "heatmap"
           }
          ],
          "histogram": [
           {
            "marker": {
             "pattern": {
              "fillmode": "overlay",
              "size": 10,
              "solidity": 0.2
             }
            },
            "type": "histogram"
           }
          ],
          "histogram2d": [
           {
            "colorbar": {
             "outlinewidth": 0,
             "ticks": ""
            },
            "colorscale": [
             [
              0,
              "#0d0887"
             ],
             [
              0.1111111111111111,
              "#46039f"
             ],
             [
              0.2222222222222222,
              "#7201a8"
             ],
             [
              0.3333333333333333,
              "#9c179e"
             ],
             [
              0.4444444444444444,
              "#bd3786"
             ],
             [
              0.5555555555555556,
              "#d8576b"
             ],
             [
              0.6666666666666666,
              "#ed7953"
             ],
             [
              0.7777777777777778,
              "#fb9f3a"
             ],
             [
              0.8888888888888888,
              "#fdca26"
             ],
             [
              1,
              "#f0f921"
             ]
            ],
            "type": "histogram2d"
           }
          ],
          "histogram2dcontour": [
           {
            "colorbar": {
             "outlinewidth": 0,
             "ticks": ""
            },
            "colorscale": [
             [
              0,
              "#0d0887"
             ],
             [
              0.1111111111111111,
              "#46039f"
             ],
             [
              0.2222222222222222,
              "#7201a8"
             ],
             [
              0.3333333333333333,
              "#9c179e"
             ],
             [
              0.4444444444444444,
              "#bd3786"
             ],
             [
              0.5555555555555556,
              "#d8576b"
             ],
             [
              0.6666666666666666,
              "#ed7953"
             ],
             [
              0.7777777777777778,
              "#fb9f3a"
             ],
             [
              0.8888888888888888,
              "#fdca26"
             ],
             [
              1,
              "#f0f921"
             ]
            ],
            "type": "histogram2dcontour"
           }
          ],
          "mesh3d": [
           {
            "colorbar": {
             "outlinewidth": 0,
             "ticks": ""
            },
            "type": "mesh3d"
           }
          ],
          "parcoords": [
           {
            "line": {
             "colorbar": {
              "outlinewidth": 0,
              "ticks": ""
             }
            },
            "type": "parcoords"
           }
          ],
          "pie": [
           {
            "automargin": true,
            "type": "pie"
           }
          ],
          "scatter": [
           {
            "fillpattern": {
             "fillmode": "overlay",
             "size": 10,
             "solidity": 0.2
            },
            "type": "scatter"
           }
          ],
          "scatter3d": [
           {
            "line": {
             "colorbar": {
              "outlinewidth": 0,
              "ticks": ""
             }
            },
            "marker": {
             "colorbar": {
              "outlinewidth": 0,
              "ticks": ""
             }
            },
            "type": "scatter3d"
           }
          ],
          "scattercarpet": [
           {
            "marker": {
             "colorbar": {
              "outlinewidth": 0,
              "ticks": ""
             }
            },
            "type": "scattercarpet"
           }
          ],
          "scattergeo": [
           {
            "marker": {
             "colorbar": {
              "outlinewidth": 0,
              "ticks": ""
             }
            },
            "type": "scattergeo"
           }
          ],
          "scattergl": [
           {
            "marker": {
             "colorbar": {
              "outlinewidth": 0,
              "ticks": ""
             }
            },
            "type": "scattergl"
           }
          ],
          "scattermap": [
           {
            "marker": {
             "colorbar": {
              "outlinewidth": 0,
              "ticks": ""
             }
            },
            "type": "scattermap"
           }
          ],
          "scattermapbox": [
           {
            "marker": {
             "colorbar": {
              "outlinewidth": 0,
              "ticks": ""
             }
            },
            "type": "scattermapbox"
           }
          ],
          "scatterpolar": [
           {
            "marker": {
             "colorbar": {
              "outlinewidth": 0,
              "ticks": ""
             }
            },
            "type": "scatterpolar"
           }
          ],
          "scatterpolargl": [
           {
            "marker": {
             "colorbar": {
              "outlinewidth": 0,
              "ticks": ""
             }
            },
            "type": "scatterpolargl"
           }
          ],
          "scatterternary": [
           {
            "marker": {
             "colorbar": {
              "outlinewidth": 0,
              "ticks": ""
             }
            },
            "type": "scatterternary"
           }
          ],
          "surface": [
           {
            "colorbar": {
             "outlinewidth": 0,
             "ticks": ""
            },
            "colorscale": [
             [
              0,
              "#0d0887"
             ],
             [
              0.1111111111111111,
              "#46039f"
             ],
             [
              0.2222222222222222,
              "#7201a8"
             ],
             [
              0.3333333333333333,
              "#9c179e"
             ],
             [
              0.4444444444444444,
              "#bd3786"
             ],
             [
              0.5555555555555556,
              "#d8576b"
             ],
             [
              0.6666666666666666,
              "#ed7953"
             ],
             [
              0.7777777777777778,
              "#fb9f3a"
             ],
             [
              0.8888888888888888,
              "#fdca26"
             ],
             [
              1,
              "#f0f921"
             ]
            ],
            "type": "surface"
           }
          ],
          "table": [
           {
            "cells": {
             "fill": {
              "color": "#EBF0F8"
             },
             "line": {
              "color": "white"
             }
            },
            "header": {
             "fill": {
              "color": "#C8D4E3"
             },
             "line": {
              "color": "white"
             }
            },
            "type": "table"
           }
          ]
         },
         "layout": {
          "annotationdefaults": {
           "arrowcolor": "#2a3f5f",
           "arrowhead": 0,
           "arrowwidth": 1
          },
          "autotypenumbers": "strict",
          "coloraxis": {
           "colorbar": {
            "outlinewidth": 0,
            "ticks": ""
           }
          },
          "colorscale": {
           "diverging": [
            [
             0,
             "#8e0152"
            ],
            [
             0.1,
             "#c51b7d"
            ],
            [
             0.2,
             "#de77ae"
            ],
            [
             0.3,
             "#f1b6da"
            ],
            [
             0.4,
             "#fde0ef"
            ],
            [
             0.5,
             "#f7f7f7"
            ],
            [
             0.6,
             "#e6f5d0"
            ],
            [
             0.7,
             "#b8e186"
            ],
            [
             0.8,
             "#7fbc41"
            ],
            [
             0.9,
             "#4d9221"
            ],
            [
             1,
             "#276419"
            ]
           ],
           "sequential": [
            [
             0,
             "#0d0887"
            ],
            [
             0.1111111111111111,
             "#46039f"
            ],
            [
             0.2222222222222222,
             "#7201a8"
            ],
            [
             0.3333333333333333,
             "#9c179e"
            ],
            [
             0.4444444444444444,
             "#bd3786"
            ],
            [
             0.5555555555555556,
             "#d8576b"
            ],
            [
             0.6666666666666666,
             "#ed7953"
            ],
            [
             0.7777777777777778,
             "#fb9f3a"
            ],
            [
             0.8888888888888888,
             "#fdca26"
            ],
            [
             1,
             "#f0f921"
            ]
           ],
           "sequentialminus": [
            [
             0,
             "#0d0887"
            ],
            [
             0.1111111111111111,
             "#46039f"
            ],
            [
             0.2222222222222222,
             "#7201a8"
            ],
            [
             0.3333333333333333,
             "#9c179e"
            ],
            [
             0.4444444444444444,
             "#bd3786"
            ],
            [
             0.5555555555555556,
             "#d8576b"
            ],
            [
             0.6666666666666666,
             "#ed7953"
            ],
            [
             0.7777777777777778,
             "#fb9f3a"
            ],
            [
             0.8888888888888888,
             "#fdca26"
            ],
            [
             1,
             "#f0f921"
            ]
           ]
          },
          "colorway": [
           "#636efa",
           "#EF553B",
           "#00cc96",
           "#ab63fa",
           "#FFA15A",
           "#19d3f3",
           "#FF6692",
           "#B6E880",
           "#FF97FF",
           "#FECB52"
          ],
          "font": {
           "color": "#2a3f5f"
          },
          "geo": {
           "bgcolor": "white",
           "lakecolor": "white",
           "landcolor": "#E5ECF6",
           "showlakes": true,
           "showland": true,
           "subunitcolor": "white"
          },
          "hoverlabel": {
           "align": "left"
          },
          "hovermode": "closest",
          "mapbox": {
           "style": "light"
          },
          "paper_bgcolor": "white",
          "plot_bgcolor": "#E5ECF6",
          "polar": {
           "angularaxis": {
            "gridcolor": "white",
            "linecolor": "white",
            "ticks": ""
           },
           "bgcolor": "#E5ECF6",
           "radialaxis": {
            "gridcolor": "white",
            "linecolor": "white",
            "ticks": ""
           }
          },
          "scene": {
           "xaxis": {
            "backgroundcolor": "#E5ECF6",
            "gridcolor": "white",
            "gridwidth": 2,
            "linecolor": "white",
            "showbackground": true,
            "ticks": "",
            "zerolinecolor": "white"
           },
           "yaxis": {
            "backgroundcolor": "#E5ECF6",
            "gridcolor": "white",
            "gridwidth": 2,
            "linecolor": "white",
            "showbackground": true,
            "ticks": "",
            "zerolinecolor": "white"
           },
           "zaxis": {
            "backgroundcolor": "#E5ECF6",
            "gridcolor": "white",
            "gridwidth": 2,
            "linecolor": "white",
            "showbackground": true,
            "ticks": "",
            "zerolinecolor": "white"
           }
          },
          "shapedefaults": {
           "line": {
            "color": "#2a3f5f"
           }
          },
          "ternary": {
           "aaxis": {
            "gridcolor": "white",
            "linecolor": "white",
            "ticks": ""
           },
           "baxis": {
            "gridcolor": "white",
            "linecolor": "white",
            "ticks": ""
           },
           "bgcolor": "#E5ECF6",
           "caxis": {
            "gridcolor": "white",
            "linecolor": "white",
            "ticks": ""
           }
          },
          "title": {
           "x": 0.05
          },
          "xaxis": {
           "automargin": true,
           "gridcolor": "white",
           "linecolor": "white",
           "ticks": "",
           "title": {
            "standoff": 15
           },
           "zerolinecolor": "white",
           "zerolinewidth": 2
          },
          "yaxis": {
           "automargin": true,
           "gridcolor": "white",
           "linecolor": "white",
           "ticks": "",
           "title": {
            "standoff": 15
           },
           "zerolinecolor": "white",
           "zerolinewidth": 2
          }
         }
        },
        "xaxis": {
         "anchor": "y",
         "domain": [
          0,
          1
         ],
         "title": {
          "text": "Episodes"
         }
        },
        "yaxis": {
         "anchor": "x",
         "domain": [
          0,
          1
         ],
         "title": {
          "text": "Rewards"
         }
        }
       }
      },
      "image/png": "[encoded data removed]"
     },
     "metadata": {},
     "output_type": "display_data"
    }
   ],
   "source": [
    "vizualition.rewards_by_episode()"
   ]
  },
  {
   "cell_type": "code",
   "execution_count": 127,
   "id": "57dddfd0",
   "metadata": {
    "ExecuteTime": {
     "end_time": "2025-07-09T07:29:55.419804Z",
     "start_time": "2025-07-09T07:29:55.413882Z"
    }
   },
   "outputs": [
    {
     "name": "stdout",
     "output_type": "stream",
     "text": [
      "Size mean : 10.168\n"
     ]
    }
   ],
   "source": [
    "import numpy as np\n",
    "import csv\n",
    "\n",
    "rewards = []\n",
    "\n",
    "with open('../data/rewards.csv', newline='') as csvfile:\n",
    "    reader = csv.DictReader(csvfile)\n",
    "    for row in reader:\n",
    "        try:\n",
    "            reward = int(row['Total_Reward'])\n",
    "            rewards.append(reward)\n",
    "        except ValueError:\n",
    "            continue\n",
    "\n",
    "if rewards:\n",
    "    print(\"Size mean :\", np.mean(rewards))\n",
    "else:\n",
    "    print(\"Empty.\")"
   ]
  },
  {
   "cell_type": "code",
   "execution_count": 76,
   "id": "d3569609",
   "metadata": {
    "ExecuteTime": {
     "end_time": "2025-07-09T07:30:00.889865Z",
     "start_time": "2025-07-09T07:30:00.850165Z"
    }
   },
   "outputs": [
    {
     "data": {
      "application/vnd.plotly.v1+json": {
       "config": {
        "plotlyServerURL": "https://plot.ly"
       },
       "data": [
        {
         "hovertemplate": "variable=0<br>index=%{x}<br>value=%{y}<extra></extra>",
         "legendgroup": "0",
         "line": {
          "color": "#636efa",
          "dash": "solid"
         },
         "marker": {
          "symbol": "circle"
         },
         "mode": "lines",
         "name": "0",
         "orientation": "v",
         "showlegend": true,
         "type": "scatter",
         "x": {
          "bdata": "AAABAAIAAwAEAAUABgAHAAgACQAKAAsADAANAA4ADwAQABEAEgATABQAFQAWABcAGAAZABoAGwAcAB0AHgAfACAAIQAiACMAJAAlACYAJwAoACkAKgArACwALQAuAC8AMAAxADIAMwA0ADUANgA3ADgAOQA6ADsAPAA9AD4APwBAAEEAQgBDAEQARQBGAEcASABJAEoASwBMAE0ATgBPAFAAUQBSAFMAVABVAFYAVwBYAFkAWgBbAFwAXQBeAF8AYABhAGIAYwBkAGUAZgBnAGgAaQBqAGsAbABtAG4AbwBwAHEAcgBzAHQAdQB2AHcAeAB5AHoAewB8AH0AfgB/AIAAgQCCAIMAhACFAIYAhwCIAIkAigCLAIwAjQCOAI8AkACRAJIAkwCUAJUAlgCXAJgAmQCaAJsAnACdAJ4AnwCgAKEAogCjAKQApQCmAKcAqACpAKoAqwCsAK0ArgCvALAAsQCyALMAtAC1ALYAtwC4ALkAugC7ALwAvQC+AL8AwADBAMIAwwDEAMUAxgDHAMgAyQDKAMsAzADNAM4AzwDQANEA0gDTANQA1QDWANcA2ADZANoA2wDcAN0A3gDfAOAA4QDiAOMA5ADlAOYA5wDoAOkA6gDrAOwA7QDuAO8A8ADxAPIA8wD0APUA9gD3APgA+QD6APsA/AD9AP4A/wAAAQEBAgEDAQQBBQEGAQcBCAEJAQoBCwEMAQ0BDgEPARABEQESARMBFAEVARYBFwEYARkBGgEbARwBHQEeAR8BIAEhASIBIwEkASUBJgEnASgBKQEqASsBLAEtAS4BLwEwATEBMgEzATQBNQE2ATcBOAE5AToBOwE8AT0BPgE/AUABQQFCAUMBRAFFAUYBRwFIAUkBSgFLAUwBTQFOAU8BUAFRAVIBUwFUAVUBVgFXAVgBWQFaAVsBXAFdAV4BXwFgAWEBYgFjAWQBZQFmAWcBaAFpAWoBawFsAW0BbgFvAXABcQFyAXMBdAF1AXYBdwF4AXkBegF7AXwBfQF+AX8BgAGBAYIBgwGEAYUBhgGHAYgBiQGKAYsBjAGNAY4BjwGQAZEBkgGTAZQBlQGWAZcBmAGZAZoBmwGcAZ0BngGfAaABoQGiAaMBpAGlAaYBpwGoAakBqgGrAawBrQGuAa8BsAGxAbIBswG0AbUBtgG3AbgBuQG6AbsBvAG9Ab4BvwHAAcEBwgHDAcQBxQE=",
          "dtype": "i2"
         },
         "xaxis": "x",
         "y": {
          "bdata": "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",
          "dtype": "f8"
         },
         "yaxis": "y"
        }
       ],
       "layout": {
        "legend": {
         "title": {
          "text": "variable"
         },
         "tracegroupgap": 0
        },
        "template": {
         "data": {
          "bar": [
           {
            "error_x": {
             "color": "#2a3f5f"
            },
            "error_y": {
             "color": "#2a3f5f"
            },
            "marker": {
             "line": {
              "color": "#E5ECF6",
              "width": 0.5
             },
             "pattern": {
              "fillmode": "overlay",
              "size": 10,
              "solidity": 0.2
             }
            },
            "type": "bar"
           }
          ],
          "barpolar": [
           {
            "marker": {
             "line": {
              "color": "#E5ECF6",
              "width": 0.5
             },
             "pattern": {
              "fillmode": "overlay",
              "size": 10,
              "solidity": 0.2
             }
            },
            "type": "barpolar"
           }
          ],
          "carpet": [
           {
            "aaxis": {
             "endlinecolor": "#2a3f5f",
             "gridcolor": "white",
             "linecolor": "white",
             "minorgridcolor": "white",
             "startlinecolor": "#2a3f5f"
            },
            "baxis": {
             "endlinecolor": "#2a3f5f",
             "gridcolor": "white",
             "linecolor": "white",
             "minorgridcolor": "white",
             "startlinecolor": "#2a3f5f"
            },
            "type": "carpet"
           }
          ],
          "choropleth": [
           {
            "colorbar": {
             "outlinewidth": 0,
             "ticks": ""
            },
            "type": "choropleth"
           }
          ],
          "contour": [
           {
            "colorbar": {
             "outlinewidth": 0,
             "ticks": ""
            },
            "colorscale": [
             [
              0,
              "#0d0887"
             ],
             [
              0.1111111111111111,
              "#46039f"
             ],
             [
              0.2222222222222222,
              "#7201a8"
             ],
             [
              0.3333333333333333,
              "#9c179e"
             ],
             [
              0.4444444444444444,
              "#bd3786"
             ],
             [
              0.5555555555555556,
              "#d8576b"
             ],
             [
              0.6666666666666666,
              "#ed7953"
             ],
             [
              0.7777777777777778,
              "#fb9f3a"
             ],
             [
              0.8888888888888888,
              "#fdca26"
             ],
             [
              1,
              "#f0f921"
             ]
            ],
            "type": "contour"
           }
          ],
          "contourcarpet": [
           {
            "colorbar": {
             "outlinewidth": 0,
             "ticks": ""
            },
            "type": "contourcarpet"
           }
          ],
          "heatmap": [
           {
            "colorbar": {
             "outlinewidth": 0,
             "ticks": ""
            },
            "colorscale": [
             [
              0,
              "#0d0887"
             ],
             [
              0.1111111111111111,
              "#46039f"
             ],
             [
              0.2222222222222222,
              "#7201a8"
             ],
             [
              0.3333333333333333,
              "#9c179e"
             ],
             [
              0.4444444444444444,
              "#bd3786"
             ],
             [
              0.5555555555555556,
              "#d8576b"
             ],
             [
              0.6666666666666666,
              "#ed7953"
             ],
             [
              0.7777777777777778,
              "#fb9f3a"
             ],
             [
              0.8888888888888888,
              "#fdca26"
             ],
             [
              1,
              "#f0f921"
             ]
            ],
            "type": "heatmap"
           }
          ],
          "histogram": [
           {
            "marker": {
             "pattern": {
              "fillmode": "overlay",
              "size": 10,
              "solidity": 0.2
             }
            },
            "type": "histogram"
           }
          ],
          "histogram2d": [
           {
            "colorbar": {
             "outlinewidth": 0,
             "ticks": ""
            },
            "colorscale": [
             [
              0,
              "#0d0887"
             ],
             [
              0.1111111111111111,
              "#46039f"
             ],
             [
              0.2222222222222222,
              "#7201a8"
             ],
             [
              0.3333333333333333,
              "#9c179e"
             ],
             [
              0.4444444444444444,
              "#bd3786"
             ],
             [
              0.5555555555555556,
              "#d8576b"
             ],
             [
              0.6666666666666666,
              "#ed7953"
             ],
             [
              0.7777777777777778,
              "#fb9f3a"
             ],
             [
              0.8888888888888888,
              "#fdca26"
             ],
             [
              1,
              "#f0f921"
             ]
            ],
            "type": "histogram2d"
           }
          ],
          "histogram2dcontour": [
           {
            "colorbar": {
             "outlinewidth": 0,
             "ticks": ""
            },
            "colorscale": [
             [
              0,
              "#0d0887"
             ],
             [
              0.1111111111111111,
              "#46039f"
             ],
             [
              0.2222222222222222,
              "#7201a8"
             ],
             [
              0.3333333333333333,
              "#9c179e"
             ],
             [
              0.4444444444444444,
              "#bd3786"
             ],
             [
              0.5555555555555556,
              "#d8576b"
             ],
             [
              0.6666666666666666,
              "#ed7953"
             ],
             [
              0.7777777777777778,
              "#fb9f3a"
             ],
             [
              0.8888888888888888,
              "#fdca26"
             ],
             [
              1,
              "#f0f921"
             ]
            ],
            "type": "histogram2dcontour"
           }
          ],
          "mesh3d": [
           {
            "colorbar": {
             "outlinewidth": 0,
             "ticks": ""
            },
            "type": "mesh3d"
           }
          ],
          "parcoords": [
           {
            "line": {
             "colorbar": {
              "outlinewidth": 0,
              "ticks": ""
             }
            },
            "type": "parcoords"
           }
          ],
          "pie": [
           {
            "automargin": true,
            "type": "pie"
           }
          ],
          "scatter": [
           {
            "fillpattern": {
             "fillmode": "overlay",
             "size": 10,
             "solidity": 0.2
            },
            "type": "scatter"
           }
          ],
          "scatter3d": [
           {
            "line": {
             "colorbar": {
              "outlinewidth": 0,
              "ticks": ""
             }
            },
            "marker": {
             "colorbar": {
              "outlinewidth": 0,
              "ticks": ""
             }
            },
            "type": "scatter3d"
           }
          ],
          "scattercarpet": [
           {
            "marker": {
             "colorbar": {
              "outlinewidth": 0,
              "ticks": ""
             }
            },
            "type": "scattercarpet"
           }
          ],
          "scattergeo": [
           {
            "marker": {
             "colorbar": {
              "outlinewidth": 0,
              "ticks": ""
             }
            },
            "type": "scattergeo"
           }
          ],
          "scattergl": [
           {
            "marker": {
             "colorbar": {
              "outlinewidth": 0,
              "ticks": ""
             }
            },
            "type": "scattergl"
           }
          ],
          "scattermap": [
           {
            "marker": {
             "colorbar": {
              "outlinewidth": 0,
              "ticks": ""
             }
            },
            "type": "scattermap"
           }
          ],
          "scattermapbox": [
           {
            "marker": {
             "colorbar": {
              "outlinewidth": 0,
              "ticks": ""
             }
            },
            "type": "scattermapbox"
           }
          ],
          "scatterpolar": [
           {
            "marker": {
             "colorbar": {
              "outlinewidth": 0,
              "ticks": ""
             }
            },
            "type": "scatterpolar"
           }
          ],
          "scatterpolargl": [
           {
            "marker": {
             "colorbar": {
              "outlinewidth": 0,
              "ticks": ""
             }
            },
            "type": "scatterpolargl"
           }
          ],
          "scatterternary": [
           {
            "marker": {
             "colorbar": {
              "outlinewidth": 0,
              "ticks": ""
             }
            },
            "type": "scatterternary"
           }
          ],
          "surface": [
           {
            "colorbar": {
             "outlinewidth": 0,
             "ticks": ""
            },
            "colorscale": [
             [
              0,
              "#0d0887"
             ],
             [
              0.1111111111111111,
              "#46039f"
             ],
             [
              0.2222222222222222,
              "#7201a8"
             ],
             [
              0.3333333333333333,
              "#9c179e"
             ],
             [
              0.4444444444444444,
              "#bd3786"
             ],
             [
              0.5555555555555556,
              "#d8576b"
             ],
             [
              0.6666666666666666,
              "#ed7953"
             ],
             [
              0.7777777777777778,
              "#fb9f3a"
             ],
             [
              0.8888888888888888,
              "#fdca26"
             ],
             [
              1,
              "#f0f921"
             ]
            ],
            "type": "surface"
           }
          ],
          "table": [
           {
            "cells": {
             "fill": {
              "color": "#EBF0F8"
             },
             "line": {
              "color": "white"
             }
            },
            "header": {
             "fill": {
              "color": "#C8D4E3"
             },
             "line": {
              "color": "white"
             }
            },
            "type": "table"
           }
          ]
         },
         "layout": {
          "annotationdefaults": {
           "arrowcolor": "#2a3f5f",
           "arrowhead": 0,
           "arrowwidth": 1
          },
          "autotypenumbers": "strict",
          "coloraxis": {
           "colorbar": {
            "outlinewidth": 0,
            "ticks": ""
           }
          },
          "colorscale": {
           "diverging": [
            [
             0,
             "#8e0152"
            ],
            [
             0.1,
             "#c51b7d"
            ],
            [
             0.2,
             "#de77ae"
            ],
            [
             0.3,
             "#f1b6da"
            ],
            [
             0.4,
             "#fde0ef"
            ],
            [
             0.5,
             "#f7f7f7"
            ],
            [
             0.6,
             "#e6f5d0"
            ],
            [
             0.7,
             "#b8e186"
            ],
            [
             0.8,
             "#7fbc41"
            ],
            [
             0.9,
             "#4d9221"
            ],
            [
             1,
             "#276419"
            ]
           ],
           "sequential": [
            [
             0,
             "#0d0887"
            ],
            [
             0.1111111111111111,
             "#46039f"
            ],
            [
             0.2222222222222222,
             "#7201a8"
            ],
            [
             0.3333333333333333,
             "#9c179e"
            ],
            [
             0.4444444444444444,
             "#bd3786"
            ],
            [
             0.5555555555555556,
             "#d8576b"
            ],
            [
             0.6666666666666666,
             "#ed7953"
            ],
            [
             0.7777777777777778,
             "#fb9f3a"
            ],
            [
             0.8888888888888888,
             "#fdca26"
            ],
            [
             1,
             "#f0f921"
            ]
           ],
           "sequentialminus": [
            [
             0,
             "#0d0887"
            ],
            [
             0.1111111111111111,
             "#46039f"
            ],
            [
             0.2222222222222222,
             "#7201a8"
            ],
            [
             0.3333333333333333,
             "#9c179e"
            ],
            [
             0.4444444444444444,
             "#bd3786"
            ],
            [
             0.5555555555555556,
             "#d8576b"
            ],
            [
             0.6666666666666666,
             "#ed7953"
            ],
            [
             0.7777777777777778,
             "#fb9f3a"
            ],
            [
             0.8888888888888888,
             "#fdca26"
            ],
            [
             1,
             "#f0f921"
            ]
           ]
          },
          "colorway": [
           "#636efa",
           "#EF553B",
           "#00cc96",
           "#ab63fa",
           "#FFA15A",
           "#19d3f3",
           "#FF6692",
           "#B6E880",
           "#FF97FF",
           "#FECB52"
          ],
          "font": {
           "color": "#2a3f5f"
          },
          "geo": {
           "bgcolor": "white",
           "lakecolor": "white",
           "landcolor": "#E5ECF6",
           "showlakes": true,
           "showland": true,
           "subunitcolor": "white"
          },
          "hoverlabel": {
           "align": "left"
          },
          "hovermode": "closest",
          "mapbox": {
           "style": "light"
          },
          "paper_bgcolor": "white",
          "plot_bgcolor": "#E5ECF6",
          "polar": {
           "angularaxis": {
            "gridcolor": "white",
            "linecolor": "white",
            "ticks": ""
           },
           "bgcolor": "#E5ECF6",
           "radialaxis": {
            "gridcolor": "white",
            "linecolor": "white",
            "ticks": ""
           }
          },
          "scene": {
           "xaxis": {
            "backgroundcolor": "#E5ECF6",
            "gridcolor": "white",
            "gridwidth": 2,
            "linecolor": "white",
            "showbackground": true,
            "ticks": "",
            "zerolinecolor": "white"
           },
           "yaxis": {
            "backgroundcolor": "#E5ECF6",
            "gridcolor": "white",
            "gridwidth": 2,
            "linecolor": "white",
            "showbackground": true,
            "ticks": "",
            "zerolinecolor": "white"
           },
           "zaxis": {
            "backgroundcolor": "#E5ECF6",
            "gridcolor": "white",
            "gridwidth": 2,
            "linecolor": "white",
            "showbackground": true,
            "ticks": "",
            "zerolinecolor": "white"
           }
          },
          "shapedefaults": {
           "line": {
            "color": "#2a3f5f"
           }
          },
          "ternary": {
           "aaxis": {
            "gridcolor": "white",
            "linecolor": "white",
            "ticks": ""
           },
           "baxis": {
            "gridcolor": "white",
            "linecolor": "white",
            "ticks": ""
           },
           "bgcolor": "#E5ECF6",
           "caxis": {
            "gridcolor": "white",
            "linecolor": "white",
            "ticks": ""
           }
          },
          "title": {
           "x": 0.05
          },
          "xaxis": {
           "automargin": true,
           "gridcolor": "white",
           "linecolor": "white",
           "ticks": "",
           "title": {
            "standoff": 15
           },
           "zerolinecolor": "white",
           "zerolinewidth": 2
          },
          "yaxis": {
           "automargin": true,
           "gridcolor": "white",
           "linecolor": "white",
           "ticks": "",
           "title": {
            "standoff": 15
           },
           "zerolinecolor": "white",
           "zerolinewidth": 2
          }
         }
        },
        "title": {
         "text": "Distribution des valeurs Q"
        },
        "xaxis": {
         "anchor": "y",
         "domain": [
          0,
          1
         ],
         "title": {
          "text": "Index"
         }
        },
        "yaxis": {
         "anchor": "x",
         "domain": [
          0,
          1
         ],
         "title": {
          "text": "Valeur Q"
         }
        }
       }
      },
      "image/png": "[encoded data removed]"
     },
     "metadata": {},
     "output_type": "display_data"
    }
   ],
   "source": [
    "import csv\n",
    "import plotly.express as px\n",
    "\n",
    "Q = {}\n",
    "\n",
    "with open('../data/session12.csv', newline='') as csvfile:\n",
    "    reader = csv.DictReader(csvfile)\n",
    "    for row in reader:\n",
    "        # Convert keys and values properly\n",
    "        state = eval(row['State'])  # safely parse the string to a tuple\n",
    "        action = row['Action']\n",
    "        value = float(row['Q_Value'])\n",
    "        Q[(state, action)] = value\n",
    "\n",
    "# Just to visualize the distribution of Q-values\n",
    "val = list(Q.values())\n",
    "fig = px.line(val, title=\"Distribution des valeurs Q\").update_layout(\n",
    "    xaxis_title=\"Index\", yaxis_title=\"Valeur Q\"\n",
    ")\n",
    "fig.show()"
   ]
  },
  {
   "cell_type": "code",
   "execution_count": null,
   "id": "1f97319c-4666-4712-9bd9-d01e8f653a49",
   "metadata": {},
   "outputs": [],
   "source": []
  }
 ],
 "metadata": {
  "kernelspec": {
   "display_name": "Python 3 (ipykernel)",
   "language": "python",
   "name": "python3"
  },
  "language_info": {
   "codemirror_mode": {
    "name": "ipython",
    "version": 3
   },
   "file_extension": ".py",
   "mimetype": "text/x-python",
   "name": "python",
   "nbconvert_exporter": "python",
   "pygments_lexer": "ipython3",
   "version": "3.10.12"
  }
 },
 "nbformat": 4,
 "nbformat_minor": 5
}
